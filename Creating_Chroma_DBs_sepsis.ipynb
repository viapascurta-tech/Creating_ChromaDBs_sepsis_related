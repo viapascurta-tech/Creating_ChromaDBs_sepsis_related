{
 "cells": [
  {
   "cell_type": "code",
   "execution_count": 1,
   "id": "22de0b66-c1e8-43ba-aa62-8c60db6d9bbc",
   "metadata": {},
   "outputs": [],
   "source": [
    "import chromadb\n",
    "import os\n",
    "import openai\n",
    "from llama_index.core import VectorStoreIndex, SimpleDirectoryReader\n",
    "from llama_index.vector_stores.chroma import ChromaVectorStore\n",
    "from llama_index.core import StorageContext\n",
    "from llama_index.embeddings.huggingface import HuggingFaceEmbedding\n",
    "from IPython.display import Markdown, display"
   ]
  },
  {
   "cell_type": "code",
   "execution_count": 2,
   "id": "96818bc1-1d7e-4df8-9c8c-5c482ca76764",
   "metadata": {},
   "outputs": [],
   "source": [
    "# Creating sepsis management vector db"
   ]
  },
  {
   "cell_type": "code",
   "execution_count": 3,
   "id": "9afa12a8-a92e-43ce-b2f9-81adc527b1e3",
   "metadata": {},
   "outputs": [
    {
     "data": {
      "text/markdown": [
       "<b>Early goal-directed therapy, which involves the early identification of at-risk patients and prompt treatment with antibiotics, hemodynamic optimization, and appropriate supportive care, are the pillars of sepsis management.</b>"
      ],
      "text/plain": [
       "<IPython.core.display.Markdown object>"
      ]
     },
     "metadata": {},
     "output_type": "display_data"
    }
   ],
   "source": [
    "os.environ[\"OPENAI_API_KEY\"] = \"Your-OpenAI-key\"\n",
    "os.environ[\"OPENAI_MODEL_NAME\"] = \"gpt-3.5-turbo\"\n",
    "\n",
    "# create client and a new collection\n",
    "chroma_client = chromadb.EphemeralClient()\n",
    "chroma_collection = chroma_client.create_collection(\"sepsis_management\")\n",
    "\n",
    "# define embedding function\n",
    "embed_model = HuggingFaceEmbedding(model_name=\"BAAI/bge-base-en-v1.5\")\n",
    "\n",
    "# load documents\n",
    "documents = SimpleDirectoryReader(\"Path to your folder with articles about sepsis as pdfs\").load_data()\n",
    "\n",
    "# set up ChromaVectorStore and load in data\n",
    "vector_store = ChromaVectorStore(chroma_collection=chroma_collection)\n",
    "storage_context = StorageContext.from_defaults(vector_store=vector_store)\n",
    "index = VectorStoreIndex.from_documents(\n",
    "    documents, storage_context=storage_context, embed_model=embed_model\n",
    ")\n",
    "\n",
    "# Query Data\n",
    "query_engine = index.as_query_engine()\n",
    "response = query_engine.query(\"What are the pillars of sepsis management?\")\n",
    "display(Markdown(f\"<b>{response}</b>\"))"
   ]
  },
  {
   "cell_type": "code",
   "execution_count": 4,
   "id": "3ce6e0a6-7c5e-4b33-a4db-eaf874ad07e6",
   "metadata": {},
   "outputs": [
    {
     "data": {
      "text/markdown": [
       "The sepsis management recommendations for a patient with sepsis of intra-abdominal origin include identifying the anatomical source of infection promptly and resolving it as soon as possible. Imaging tests are crucial and should not be limited to the abdominal cavity. It is advised not to delay control of the outbreak unless there are significant metabolic or coagulation alterations, or if the patient is very unstable hemodynamically. The appropriate timing to control the outbreak is a subject of debate, but in severe infections, controlling the focus of infection between 2 and 6 hours after diagnosis has shown to produce better results."
      ],
      "text/plain": [
       "<IPython.core.display.Markdown object>"
      ]
     },
     "metadata": {},
     "output_type": "display_data"
    }
   ],
   "source": [
    "# save to disk\n",
    "db = chromadb.PersistentClient(path=\"./sepsis_management_chroma_db\")\n",
    "chroma_collection = db.get_or_create_collection(\"sepsis_management\")\n",
    "vector_store = ChromaVectorStore(chroma_collection=chroma_collection)\n",
    "storage_context = StorageContext.from_defaults(vector_store=vector_store)\n",
    "\n",
    "index = VectorStoreIndex.from_documents(\n",
    "    documents, storage_context=storage_context, embed_model=embed_model\n",
    ")\n",
    "\n",
    "# load from disk\n",
    "db1 = chromadb.PersistentClient(path=\"./sepsis_management_chroma_db\")\n",
    "chroma_collection = db1.get_or_create_collection(\"sepsis_management\")\n",
    "vector_store = ChromaVectorStore(chroma_collection=chroma_collection)\n",
    "index = VectorStoreIndex.from_vector_store(\n",
    "    vector_store,\n",
    "    embed_model=embed_model,\n",
    ")\n",
    " \n",
    "# Query Data from the persisted index\n",
    "query_engine = index.as_query_engine()\n",
    "response = query_engine.query(\"What are the sepsis management recommendations for a patient with sepsis of intra-abdominal origin?\")\n",
    "display(Markdown(f\"{response}\"))"
   ]
  },
  {
   "cell_type": "code",
   "execution_count": null,
   "id": "b70ef03b-b3e6-43d6-b6ea-a507526932a5",
   "metadata": {},
   "outputs": [],
   "source": [
    "# Creating antibiotics vector db"
   ]
  },
  {
   "cell_type": "code",
   "execution_count": 1,
   "id": "2189e580-77b7-4be2-b343-49d4df03427f",
   "metadata": {},
   "outputs": [],
   "source": [
    "import chromadb\n",
    "import os\n",
    "import openai\n",
    "from llama_index.core import VectorStoreIndex, SimpleDirectoryReader\n",
    "from llama_index.vector_stores.chroma import ChromaVectorStore\n",
    "from llama_index.core import StorageContext\n",
    "from llama_index.embeddings.huggingface import HuggingFaceEmbedding\n",
    "from IPython.display import Markdown, display"
   ]
  },
  {
   "cell_type": "code",
   "execution_count": 2,
   "id": "9187f5ee-257a-4851-af50-a609b2ed7406",
   "metadata": {},
   "outputs": [
    {
     "data": {
      "text/markdown": [
       "<b>The antibiotics recommended for a patient with sepsis of pulmonary origin include a combination of a beta-lactam (ampicillin + sulbactam, ceftriaxone, or cefotaxime) and a macrolide (azithromycin or clarithromycin) as initial empiric therapy. Alternatively, monotherapy with a respiratory fluoroquinolone (levofloxacin or moxifloxacin) can also be considered. Additional considerations involve assessing risk factors for MRSA and/or Pseudomonas aeruginosa and adjusting the treatment accordingly.</b>"
      ],
      "text/plain": [
       "<IPython.core.display.Markdown object>"
      ]
     },
     "metadata": {},
     "output_type": "display_data"
    }
   ],
   "source": [
    "os.environ[\"OPENAI_API_KEY\"] = \"Your-OpenAI-key\"\n",
    "os.environ[\"OPENAI_MODEL_NAME\"] = \"gpt-3.5-turbo\"\n",
    "\n",
    "# create client and a new collection\n",
    "chroma_client = chromadb.EphemeralClient()\n",
    "chroma_collection = chroma_client.create_collection(\"sepsis_antibiotic_recommendations\")\n",
    "\n",
    "# define embedding function\n",
    "embed_model = HuggingFaceEmbedding(model_name=\"BAAI/bge-base-en-v1.5\")\n",
    "\n",
    "# load documents\n",
    "documents = SimpleDirectoryReader(\"Path to your folder with articles/materials concerning antibiotic treatment as pdfs\").load_data()\n",
    "\n",
    "# set up ChromaVectorStore and load in data\n",
    "vector_store = ChromaVectorStore(chroma_collection=chroma_collection)\n",
    "storage_context = StorageContext.from_defaults(vector_store=vector_store)\n",
    "index = VectorStoreIndex.from_documents(\n",
    "    documents, storage_context=storage_context, embed_model=embed_model\n",
    ")\n",
    "\n",
    "# Query Data\n",
    "query_engine = index.as_query_engine()\n",
    "response = query_engine.query(\"What are the antibiotics recommended for a patient with sepsis of pulmonary origin?\")\n",
    "display(Markdown(f\"<b>{response}</b>\"))"
   ]
  },
  {
   "cell_type": "code",
   "execution_count": 3,
   "id": "5b526dc7-b130-4216-b816-73929f93303a",
   "metadata": {},
   "outputs": [
    {
     "data": {
      "text/markdown": [
       "Imipenem-cilastatin, meropenem, or piperacillin-tazobactam with or without vancomycin are the antibiotics recommended for a patient with sepsis of genitourinary origin."
      ],
      "text/plain": [
       "<IPython.core.display.Markdown object>"
      ]
     },
     "metadata": {},
     "output_type": "display_data"
    }
   ],
   "source": [
    "# save to disk\n",
    "db2 = chromadb.PersistentClient(path=\"./sepsis_antibiotics_chroma_db\")\n",
    "chroma_collection = db2.get_or_create_collection(\"sepsis_antibiotic_recommendations\")\n",
    "vector_store = ChromaVectorStore(chroma_collection=chroma_collection)\n",
    "storage_context = StorageContext.from_defaults(vector_store=vector_store)\n",
    "\n",
    "index = VectorStoreIndex.from_documents(\n",
    "    documents, storage_context=storage_context, embed_model=embed_model\n",
    ")\n",
    "\n",
    "# load from disk\n",
    "db3 = chromadb.PersistentClient(path=\"./sepsis_antibiotics_chroma_db\")\n",
    "chroma_collection = db3.get_or_create_collection(\"sepsis_antibiotic_recommendations\")\n",
    "vector_store = ChromaVectorStore(chroma_collection=chroma_collection)\n",
    "index = VectorStoreIndex.from_vector_store(\n",
    "    vector_store,\n",
    "    embed_model=embed_model,\n",
    ")\n",
    "\n",
    "# Query Data from the persisted index\n",
    "query_engine = index.as_query_engine()\n",
    "response = query_engine.query(\"What are the antibiotics recommended for a patient with sepsis of genitourinary origin?\")\n",
    "display(Markdown(f\"{response}\"))"
   ]
  },
  {
   "cell_type": "code",
   "execution_count": null,
   "id": "0b9c083e-a57c-4db8-bd16-9301dc18ebe1",
   "metadata": {},
   "outputs": [],
   "source": [
    "# Creating sepsis guidelines vector db"
   ]
  },
  {
   "cell_type": "code",
   "execution_count": 1,
   "id": "e7346474-9ea5-40dd-ade5-b068da524611",
   "metadata": {},
   "outputs": [],
   "source": [
    "import chromadb\n",
    "import os\n",
    "import openai\n",
    "from llama_index.core import VectorStoreIndex, SimpleDirectoryReader\n",
    "from llama_index.vector_stores.chroma import ChromaVectorStore\n",
    "from llama_index.core import StorageContext\n",
    "from llama_index.embeddings.huggingface import HuggingFaceEmbedding\n",
    "from IPython.display import Markdown, display"
   ]
  },
  {
   "cell_type": "code",
   "execution_count": 2,
   "id": "c1976299-2c4d-423d-a290-1ea0f4b9964f",
   "metadata": {},
   "outputs": [
    {
     "data": {
      "text/markdown": [
       "<b>The last sepsis management guidelines were proposed in November 2021.</b>"
      ],
      "text/plain": [
       "<IPython.core.display.Markdown object>"
      ]
     },
     "metadata": {},
     "output_type": "display_data"
    }
   ],
   "source": [
    "os.environ[\"OPENAI_API_KEY\"] = \"Your-OpenAI-key\"\n",
    "os.environ[\"OPENAI_MODEL_NAME\"] = \"gpt-3.5-turbo\"\n",
    "\n",
    "# create client and a new collection\n",
    "chroma_client = chromadb.EphemeralClient()\n",
    "chroma_collection = chroma_client.create_collection(\"sepsis_management_guidelines\")\n",
    "\n",
    "# define embedding function\n",
    "embed_model = HuggingFaceEmbedding(model_name=\"BAAI/bge-base-en-v1.5\")\n",
    "\n",
    "# load documents\n",
    "documents = SimpleDirectoryReader(\"Path to your folder with sepsis gudelines\").load_data()\n",
    "\n",
    "# set up ChromaVectorStore and load in data\n",
    "vector_store = ChromaVectorStore(chroma_collection=chroma_collection)\n",
    "storage_context = StorageContext.from_defaults(vector_store=vector_store)\n",
    "index = VectorStoreIndex.from_documents(\n",
    "    documents, storage_context=storage_context, embed_model=embed_model\n",
    ")\n",
    "\n",
    "# Query Data\n",
    "query_engine = index.as_query_engine()\n",
    "response = query_engine.query(\"When last sepsis management guidelines were proposed?\")\n",
    "display(Markdown(f\"<b>{response}</b>\"))"
   ]
  },
  {
   "cell_type": "code",
   "execution_count": 3,
   "id": "99f1d4f1-2a01-486d-aff7-2b0d75f43ea7",
   "metadata": {},
   "outputs": [
    {
     "data": {
      "text/markdown": [
       "Norepinephrine is recommended as the first-line agent for adults with septic shock. Vasopressin can be added for patients on norepinephrine with inadequate mean arterial pressure levels, and epinephrine can be considered if mean arterial pressure remains inadequate despite norepinephrine and vasopressin. Terlipressin is suggested against for adults with septic shock."
      ],
      "text/plain": [
       "<IPython.core.display.Markdown object>"
      ]
     },
     "metadata": {},
     "output_type": "display_data"
    }
   ],
   "source": [
    "# save to disk\n",
    "db4 = chromadb.PersistentClient(path=\"./sepsis_guidelines_chroma_db\")\n",
    "chroma_collection = db4.get_or_create_collection(\"sepsis_management_guidelines\")\n",
    "vector_store = ChromaVectorStore(chroma_collection=chroma_collection)\n",
    "storage_context = StorageContext.from_defaults(vector_store=vector_store)\n",
    "\n",
    "index = VectorStoreIndex.from_documents(\n",
    "    documents, storage_context=storage_context, embed_model=embed_model\n",
    ")\n",
    "\n",
    "# load from disk\n",
    "db5 = chromadb.PersistentClient(path=\"./sepsis_guidelines_chroma_db\")\n",
    "chroma_collection = db5.get_or_create_collection(\"sepsis_management_guidelines\")\n",
    "vector_store = ChromaVectorStore(chroma_collection=chroma_collection)\n",
    "index = VectorStoreIndex.from_vector_store(\n",
    "    vector_store,\n",
    "    embed_model=embed_model,\n",
    ")\n",
    "\n",
    "# Query Data from the persisted index\n",
    "query_engine = index.as_query_engine()\n",
    "response = query_engine.query(\"What are the vasopressors recommended in case of septic shock?\")\n",
    "display(Markdown(f\"{response}\"))"
   ]
  }
 ],
 "metadata": {
  "kernelspec": {
   "display_name": "Python 3 (ipykernel)",
   "language": "python",
   "name": "python3"
  },
  "language_info": {
   "codemirror_mode": {
    "name": "ipython",
    "version": 3
   },
   "file_extension": ".py",
   "mimetype": "text/x-python",
   "name": "python",
   "nbconvert_exporter": "python",
   "pygments_lexer": "ipython3",
   "version": "3.11.10"
  }
 },
 "nbformat": 4,
 "nbformat_minor": 5
}
